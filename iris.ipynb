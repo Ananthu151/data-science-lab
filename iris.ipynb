{
  "nbformat": 4,
  "nbformat_minor": 0,
  "metadata": {
    "colab": {
      "provenance": []
    },
    "kernelspec": {
      "name": "python3",
      "display_name": "Python 3"
    },
    "language_info": {
      "name": "python"
    }
  },
  "cells": [
    {
      "cell_type": "code",
      "source": [
        "from sklearn.datasets import load_iris\n",
        "from sklearn.model_selection import train_test_split\n",
        "from sklearn.naive_bayes import GaussianNB\n",
        "from sklearn.metrics import accuracy_score \n",
        "X, y = load_iris(return_X_y=True)\n",
        "X_train, X_test, y_train, y_test = train_test_split(X, y, test_size=0.3, random_state=0)\n",
        "gnb = GaussianNB()\n",
        "y_pred = gnb.fit(X_train, y_train).predict(X_test)\n",
        "print(y_pred)\n",
        "x_new=[[5,5,4,4]]\n",
        "y_new = gnb.fit(X_train, y_train).predict(x_new)\n",
        "from sklearn.metrics import confusion_matrix\n",
        "cm=confusion_matrix(y_test,y_pred)\n",
        "print(\"CN\",cm)\n",
        "print(\"\\n\")\n",
        "print(\"predicted output for[5,5,4,4]\")\n",
        "print(\"Number of mislabeled points out of a total %d points :%d\",(X_test.shape[0],(y_test != y_pred).sum()))\n",
        "print(\"Accuracy Score:\",accuracy_score(y_test, y_pred))"
      ],
      "metadata": {
        "colab": {
          "base_uri": "https://localhost:8080/"
        },
        "id": "ioWJmHHQTdgr",
        "outputId": "d5c21dd2-d69b-437d-8cd7-4b4a4b621116"
      },
      "execution_count": null,
      "outputs": [
        {
          "output_type": "stream",
          "name": "stdout",
          "text": [
            "[2 1 0 2 0 2 0 1 1 1 2 1 1 1 1 0 1 1 0 0 2 1 0 0 2 0 0 1 1 0 2 1 0 2 2 1 0\n",
            " 1 1 1 2 0 2 0 0]\n",
            "CN [[16  0  0]\n",
            " [ 0 18  0]\n",
            " [ 0  0 11]]\n",
            "\n",
            "\n",
            "predicted output for[5,5,4,4]\n",
            "Number of mislabeled points out of a total %d points :%d (45, 0)\n",
            "Accuracy Score: 1.0\n"
          ]
        }
      ]
    }
  ]
}