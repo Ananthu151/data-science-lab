{
  "nbformat": 4,
  "nbformat_minor": 0,
  "metadata": {
    "colab": {
      "provenance": []
    },
    "kernelspec": {
      "name": "python3",
      "display_name": "Python 3"
    },
    "language_info": {
      "name": "python"
    }
  },
  "cells": [
    {
      "cell_type": "code",
      "execution_count": null,
      "metadata": {
        "id": "-VeaybS9MDXY"
      },
      "outputs": [],
      "source": [
        "from sklearn import neighbors,datasets,preprocessing\n",
        "from sklearn.metrics import accuracy_score\n",
        "from sklearn.metrics import confusion_matrix\n",
        "from sklearn.model_selection import train_test_split\n",
        "iris=datasets.load_iris()\n",
        "x=iris.data[:,:]\n",
        "y=iris.target\n",
        "\n",
        "\n"
      ]
    },
    {
      "cell_type": "code",
      "source": [
        "x_train,x_test,y_train,y_test=train_test_split(x,y,stratify=y,random_state=42)\n",
        "scalar=preprocessing.StandardScaler().fit(x_train)\n",
        "x_train=scalar.transform(x_train)\n",
        "x_test=scalar.transform(x_test)"
      ],
      "metadata": {
        "id": "Sa_e2vYhN5Ch"
      },
      "execution_count": null,
      "outputs": []
    },
    {
      "cell_type": "code",
      "source": [
        "score=[]\n",
        "k_range=range(1,15)\n",
        "for k in range(1,15):\n",
        "  knn=neighbors.KNeighborsClassifier(n_neighbors=k)\n",
        "  knn.fit(x_train,y_train)\n",
        "  y_pred=knn.predict(x_test)\n",
        "  print(\"when k=\",k,\",accuracy=\",accuracy_score(y_test,y_pred))"
      ],
      "metadata": {
        "colab": {
          "base_uri": "https://localhost:8080/"
        },
        "id": "jFfVZ8lpzxZV",
        "outputId": "7b99ddcc-fb02-4345-f4ad-447c133b474b"
      },
      "execution_count": null,
      "outputs": [
        {
          "output_type": "stream",
          "name": "stdout",
          "text": [
            "when k= 1 ,accuracy= 0.9473684210526315\n",
            "when k= 2 ,accuracy= 0.9210526315789473\n",
            "when k= 3 ,accuracy= 0.9210526315789473\n",
            "when k= 4 ,accuracy= 0.9210526315789473\n",
            "when k= 5 ,accuracy= 0.9210526315789473\n",
            "when k= 6 ,accuracy= 0.9210526315789473\n",
            "when k= 7 ,accuracy= 0.9473684210526315\n",
            "when k= 8 ,accuracy= 0.9210526315789473\n",
            "when k= 9 ,accuracy= 0.9736842105263158\n",
            "when k= 10 ,accuracy= 0.9736842105263158\n",
            "when k= 11 ,accuracy= 0.9736842105263158\n",
            "when k= 12 ,accuracy= 0.9736842105263158\n",
            "when k= 13 ,accuracy= 0.9736842105263158\n",
            "when k= 14 ,accuracy= 0.9473684210526315\n"
          ]
        }
      ]
    },
    {
      "cell_type": "code",
      "source": [
        "knn=neighbors.KNeighborsClassifier(n_neighbors=9)\n",
        "knn.fit(x_train,y_train)"
      ],
      "metadata": {
        "colab": {
          "base_uri": "https://localhost:8080/"
        },
        "id": "i1WNl98YO2Ln",
        "outputId": "42f9266b-f606-4e0b-c1f2-534a618dc78f"
      },
      "execution_count": null,
      "outputs": [
        {
          "output_type": "execute_result",
          "data": {
            "text/plain": [
              "KNeighborsClassifier(n_neighbors=9)"
            ]
          },
          "metadata": {},
          "execution_count": 41
        }
      ]
    },
    {
      "cell_type": "code",
      "source": [
        "y_result=knn.predict(x_test)\n",
        "y_result"
      ],
      "metadata": {
        "colab": {
          "base_uri": "https://localhost:8080/"
        },
        "id": "6SaorTxMyAfp",
        "outputId": "fb6776cc-08a2-499b-dd2c-3f7cdc64ed44"
      },
      "execution_count": null,
      "outputs": [
        {
          "output_type": "execute_result",
          "data": {
            "text/plain": [
              "array([0, 1, 1, 1, 0, 1, 2, 2, 2, 2, 1, 2, 1, 1, 0, 0, 0, 1, 0, 1, 2, 1,\n",
              "       2, 1, 2, 1, 0, 2, 0, 1, 2, 2, 0, 0, 0, 0, 2, 1])"
            ]
          },
          "metadata": {},
          "execution_count": 42
        }
      ]
    },
    {
      "cell_type": "code",
      "source": [
        "y_test"
      ],
      "metadata": {
        "colab": {
          "base_uri": "https://localhost:8080/"
        },
        "id": "bL2vnOVlykCw",
        "outputId": "69450d6a-0d2f-40f3-c547-7bb90c5ff3e7"
      },
      "execution_count": null,
      "outputs": [
        {
          "output_type": "execute_result",
          "data": {
            "text/plain": [
              "array([0, 1, 1, 1, 0, 1, 2, 2, 2, 2, 2, 2, 1, 1, 0, 0, 0, 1, 0, 1, 2, 1,\n",
              "       2, 1, 2, 1, 0, 2, 0, 1, 2, 2, 0, 0, 0, 0, 2, 1])"
            ]
          },
          "metadata": {},
          "execution_count": 43
        }
      ]
    },
    {
      "cell_type": "code",
      "source": [
        "print(accuracy_score(y_test,y_result))"
      ],
      "metadata": {
        "colab": {
          "base_uri": "https://localhost:8080/"
        },
        "id": "4EFhUjzxynRm",
        "outputId": "784e9186-31c1-47e2-9759-cc0489c195fb"
      },
      "execution_count": null,
      "outputs": [
        {
          "output_type": "stream",
          "name": "stdout",
          "text": [
            "0.9736842105263158\n"
          ]
        }
      ]
    }
  ]
}